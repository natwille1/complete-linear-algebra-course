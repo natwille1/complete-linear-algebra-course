{
 "cells": [
  {
   "cell_type": "code",
   "execution_count": 2,
   "metadata": {},
   "outputs": [],
   "source": [
    "import numpy as np\n",
    "import matplotlib.pyplot as plt\n",
    "import math\n",
    "from mpl_toolkits.mplot3d import Axes3D"
   ]
  },
  {
   "cell_type": "markdown",
   "metadata": {},
   "source": [
    "\n",
    "---\n",
    "# VIDEO: Projections in R^2\n",
    "---\n"
   ]
  },
  {
   "cell_type": "code",
   "execution_count": 3,
   "metadata": {},
   "outputs": [
    {
     "data": {
      "image/png": "[encoded data removed]",
      "text/plain": [
       "<Figure size 432x288 with 1 Axes>"
      ]
     },
     "metadata": {
      "needs_background": "light"
     },
     "output_type": "display_data"
    }
   ],
   "source": [
    "\n",
    "# point b\n",
    "b = np.array([4,1])\n",
    "\n",
    "# line a\n",
    "a = np.array([ 2, 5 ])\n",
    "\n",
    "# beta\n",
    "beta = (a.T@b) / (a.T@a)\n",
    "\n",
    "# draw!\n",
    "plt.plot([0, a[0]],[0, a[1]],'b',label='a')\n",
    "\n",
    "# now plot projection line\n",
    "plt.plot([b[0], beta*a[0]],[b[1], beta*a[1]],'r--',label=r'b-$\\beta$a')\n",
    "plt.axis('square')\n",
    "plt.grid()\n",
    "plt.legend()\n",
    "plt.axis((-6, 6, -6, 6))\n",
    "\n",
    "plt.show()"
   ]
  },
  {
   "cell_type": "markdown",
   "metadata": {},
   "source": [
    "\n",
    "---\n",
    "# VIDEO: Projections in R^N\n",
    "---\n"
   ]
  },
  {
   "cell_type": "code",
   "execution_count": null,
   "metadata": {},
   "outputs": [],
   "source": [
    "## the goal here is to solve Ax=b for x\n",
    "\n",
    "# sizes\n",
    "m = 16\n",
    "n = 10\n",
    "\n",
    "# vector b\n",
    "b = np.random.randn(m,1)\n",
    "\n",
    "# matrix A\n",
    "A = np.random.randn(m,n)\n",
    "\n",
    "# solution using explicit inverse\n",
    "x1 = np.linalg.inv(A.T@A) @ (A.T@b)\n",
    "\n",
    "# python solution (better method)\n",
    "x2 = np.linalg.solve(A.T@A,A.T@b)\n",
    "\n",
    "# show that the results are the same\n",
    "print(np.round(x1.T,3))\n",
    "print(np.round(x2.T,3))"
   ]
  },
  {
   "cell_type": "code",
   "execution_count": null,
   "metadata": {},
   "outputs": [],
   "source": [
    "## geometric perspective in R^3\n",
    "\n",
    "# matrix sizes\n",
    "m = 3\n",
    "n = 2\n",
    "\n",
    "# vector b\n",
    "b = np.random.randn(m,1)\n",
    "\n",
    "# matrix A\n",
    "A = np.random.randn(m,n)\n",
    "\n",
    "\n",
    "# solution\n",
    "x = np.linalg.solve(A.T@A,A.T@b)\n",
    "Ax = A@x\n",
    "\n",
    "print(b.T)\n",
    "print(Ax.T)"
   ]
  },
  {
   "cell_type": "code",
   "execution_count": null,
   "metadata": {},
   "outputs": [],
   "source": [
    "## plot\n",
    "fig = plt.figure(figsize=plt.figaspect(1))\n",
    "ax = fig.gca(projection='3d')\n",
    "\n",
    "# plot the vectors\n",
    "ax.plot([0, b[0]],[0, b[1]],[0, b[2]],'r')\n",
    "ax.plot([0, Ax[0]],[0, Ax[1]],[0, Ax[2]],'b')\n",
    "\n",
    "# plot the projection line\n",
    "ax.plot( [Ax[0][0], b[0]],\n",
    "         [Ax[1][0], b[1]],\n",
    "         [Ax[2][0], b[2]], 'g')\n",
    "\n",
    "# now draw plane\n",
    "xx, yy = np.meshgrid(np.linspace(-2,2), np.linspace(-2,2))\n",
    "cp = np.cross(A[:,0],A[:,1])\n",
    "z1 = (-cp[0]*xx - cp[1]*yy)*1./cp[2]\n",
    "ax.plot_surface(xx,yy,z1,alpha=.4)\n",
    "\n",
    "plt.show()"
   ]
  },
  {
   "cell_type": "code",
   "execution_count": null,
   "metadata": {},
   "outputs": [],
   "source": []
  },
  {
   "cell_type": "markdown",
   "metadata": {},
   "source": [
    "\n",
    "---\n",
    "# VIDEO: QR decomposition\n",
    "---\n"
   ]
  },
  {
   "cell_type": "code",
   "execution_count": null,
   "metadata": {},
   "outputs": [],
   "source": [
    "# example from the slides\n",
    "\n",
    "A = [ [1,0],\n",
    "      [1,0],\n",
    "      [0,1] ]\n",
    "  \n",
    "# \"full\" QR decomposition\n",
    "Q,R = np.linalg.qr(A,'complete')\n",
    "print(Q), print(' ')\n",
    "\n",
    "# \"economy\" QR decomposition\n",
    "Q,R = np.linalg.qr(A) # is the default option in Python\n",
    "print(Q)"
   ]
  },
  {
   "cell_type": "code",
   "execution_count": null,
   "metadata": {},
   "outputs": [],
   "source": [
    "## another example\n",
    "\n",
    "# the to-be-decomposed matrix\n",
    "M = np.array( [ [1, 1,-2], [3,-1, 1] ] )\n",
    "\n",
    "# QR decomposition\n",
    "Q,R = np.linalg.qr(M,'complete')\n",
    "\n",
    "# notice:\n",
    "print('R from QR: '),print(np.round(R,4))\n",
    "print('R from Q^TM: '),print(np.round(Q.T@M,4))"
   ]
  },
  {
   "cell_type": "code",
   "execution_count": null,
   "metadata": {},
   "outputs": [],
   "source": [
    "# plot\n",
    "colorz = 'krg'\n",
    "\n",
    "for i in range(0,np.shape(M)[1]):\n",
    "    \n",
    "    # plot original vector M\n",
    "    plt.plot([0,M[0,i]],[0,M[1,i]],colorz[i])\n",
    "    \n",
    "    # plot orthogonalized vector Q\n",
    "    if i<np.shape(Q)[1]:\n",
    "        plt.plot([0,Q[0,i]],[0,Q[1,i]],colorz[i],linestyle='--')\n",
    "    \n",
    "    # plot residual vector R\n",
    "    plt.plot([0,R[0,i]],[0,R[1,i]],colorz[i],linestyle=':')\n",
    "\n",
    "    \n",
    "plt.legend(['M$_1$','Q$_1$','R$_1$'])\n",
    "plt.axis('square')\n",
    "plt.xlim(-4,4)\n",
    "plt.ylim(-4,4)\n",
    "plt.grid(True)\n",
    "plt.plot()"
   ]
  }
 ],
 "metadata": {
  "kernelspec": {
   "display_name": "Python 3",
   "language": "python",
   "name": "python3"
  },
  "language_info": {
   "codemirror_mode": {
    "name": "ipython",
    "version": 3
   },
   "file_extension": ".py",
   "mimetype": "text/x-python",
   "name": "python",
   "nbconvert_exporter": "python",
   "pygments_lexer": "ipython3",
   "version": "3.6.10"
  },
  "latex_envs": {
   "LaTeX_envs_menu_present": true,
   "autoclose": false,
   "autocomplete": true,
   "bibliofile": "biblio.bib",
   "cite_by": "apalike",
   "current_citInitial": 1,
   "eqLabelWithNumbers": true,
   "eqNumInitial": 1,
   "hotkeys": {
    "equation": "Ctrl-E",
    "itemize": "Ctrl-I"
   },
   "labels_anchors": false,
   "latex_user_defs": false,
   "report_style_numbering": false,
   "user_envs_cfg": false
  }
 },
 "nbformat": 4,
 "nbformat_minor": 2
}
